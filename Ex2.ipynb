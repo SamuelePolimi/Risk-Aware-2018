{
 "cells": [
  {
   "cell_type": "markdown",
   "metadata": {},
   "source": [
    "# Entropic Mapping\n",
    "\n",
    "The Entropic Map, is a very curious function which can act as max-operator, min-operator or as average.\n",
    "It can be seen as the solution of an optimization problem, where we seek an extreem optimistic or pessimistic distribution, but close to the original distribution."
   ]
  },
  {
   "cell_type": "code",
   "execution_count": null,
   "metadata": {},
   "outputs": [],
   "source": [
    "import numpy as np\n",
    "import matplotlib.pyplot as plt\n",
    "from scipy.special import logsumexp"
   ]
  },
  {
   "cell_type": "code",
   "execution_count": null,
   "metadata": {},
   "outputs": [],
   "source": [
    "class Distribution:\n",
    "    def __init__(self, domain, probabilities):\n",
    "        self.domain = domain\n",
    "        self.probabilities = probabilities\n",
    "        self.p_fun = {}\n",
    "        for i, d in enumerate(domain):\n",
    "            self.p_fun[d] = probabilities[i]\n",
    "        \n",
    "    def get_mean(self):\n",
    "        return np.dot(self.domain, self.probabilities)\n",
    "\n",
    "    def get_kl(self, q):\n",
    "        return np.dot(q, (np.log(q)-np.log(self.probabilities)))\n",
    "    \n",
    "def plot(d1, d2, eta=-1.):\n",
    "    sset = set(d1.domain).union(set(d2.domain))\n",
    "    bins = list(range(min(sset), max(sset)))\n",
    "    plt.title(\"$\\eta=\" + str(eta) + \"$\")\n",
    "    plt.hist(d1.domain, bins=bins + [2*bins[-1] -bins[-2]] , weights=d1.probabilities, alpha=0.5, label=\"True distr.\")\n",
    "    plt.hist(d2.domain, bins=bins + [2*bins[-1] -bins[-2]], weights=d2.probabilities, alpha=0.5, label=\"Entr. reg. distr.\")\n",
    "    plt.legend(loc='best')\n",
    "    plt.show()\n",
    "    \n",
    "    \n",
    "\n",
    "X = np.array([0, 5, 10, 15, 20 ])\n",
    "p = np.array([0.1, 0.2, 0.4, 0.05, 0.25])\n",
    "eta = 0.1\n",
    "\n",
    "D1 = Distribution(X,p)\n",
    "\n",
    "def problem(d1, q, eta=-1.):\n",
    "    return np.dot(d1.domain, q) -  d1.get_kl(q)/eta\n",
    "\n",
    "def get_entropic_probabilities(d1, eta=-1.):\n",
    "    return np.exp(eta*d1.domain)* d1.probabilities/np.dot(np.exp(eta*d1.domain), d1.probabilities)\n",
    "\n",
    "def produce_plot(entropic_map, etas =[-1., -0.2, -0.001, 0.2,1.]):\n",
    "\n",
    "    print(\"Mean: \", D1.get_mean())\n",
    "    print(\"Min: \", np.min(D1.domain))\n",
    "    print(\"Max: \", np.max(D1.domain))\n",
    "    for eta in etas:\n",
    "        print(\"\\n\\n\" + \"=\"*20)\n",
    "        print(\"With eta= %f we have:\" % eta)\n",
    "        plot(Distribution(X, p), Distribution(X, get_entropic_probabilities(Distribution(X,p), eta=eta)), eta=eta)\n",
    "        print(\"Entropic mapping: \", entropic_map(D1, eta=eta))\n",
    "        q = get_entropic_probabilities(D1, eta=eta)\n",
    "        print(\"Problem: \", problem(D1, q, eta=eta))\n",
    "        "
   ]
  },
  {
   "cell_type": "code",
   "execution_count": null,
   "metadata": {},
   "outputs": [],
   "source": [
    "def entropic_map(d1, eta=-1.):\n",
    "    if np.abs(eta) < 1e-5:\n",
    "        return None #TODO: avoid numerical errors \n",
    "    return None #TODO: implement!\n",
    "\n",
    "produce_plot(entropic_map)"
   ]
  }
 ],
 "metadata": {
  "kernelspec": {
   "display_name": "Python 3",
   "language": "python",
   "name": "python3"
  },
  "language_info": {
   "codemirror_mode": {
    "name": "ipython",
    "version": 3
   },
   "file_extension": ".py",
   "mimetype": "text/x-python",
   "name": "python",
   "nbconvert_exporter": "python",
   "pygments_lexer": "ipython3",
   "version": "3.6.6"
  }
 },
 "nbformat": 4,
 "nbformat_minor": 2
}
